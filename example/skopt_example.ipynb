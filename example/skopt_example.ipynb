{
 "cells": [
  {
   "cell_type": "markdown",
   "metadata": {},
   "source": [
    "# Scopt example"
   ]
  },
  {
   "cell_type": "code",
   "execution_count": 1,
   "metadata": {},
   "outputs": [],
   "source": [
    "from modelgym.models import CtBClassifier, XGBClassifier, LGBMClassifier\n",
    "from modelgym.utils import ModelSpace\n",
    "from skopt.space import Integer, Categorical, Real\n",
    "from sklearn.datasets import make_classification\n",
    "from modelgym.utils import XYCDataset\n",
    "from modelgym.trainers import SkoptTrainer\n",
    "from modelgym.report import Report\n",
    "from modelgym.metrics import Accuracy, RocAuc\n",
    "import pandas as pd\n",
    "import math"
   ]
  },
  {
   "cell_type": "code",
   "execution_count": 2,
   "metadata": {},
   "outputs": [],
   "source": [
    "catboost_space = [\n",
    "    Integer(low=100, high=101, name='iterations'),\n",
    "    Integer(low=1, high=11, name='depth'),\n",
    "    Real(low=math.exp(-5), high=1e-1, prior='log-uniform', name='learning_rate'),\n",
    "    Real(low=0.01, high=1, prior='uniform', transform='identity', name='rsm'),\n",
    "    Categorical(categories=('Newton', 'Gradient'), prior=None, name='leaf_estimation_method'),\n",
    "    Integer(low=1, high=10, name='l2_leaf_reg'),\n",
    "    Real(low=0, high=2, prior='uniform', transform='identity', name='bagging_temperature')\n",
    "]\n",
    "catboost_model = ModelSpace(CtBClassifier,\n",
    "                   space=catboost_space,\n",
    "                   space_update=False)"
   ]
  },
  {
   "cell_type": "code",
   "execution_count": 3,
   "metadata": {},
   "outputs": [],
   "source": [
    "xgboost_space = [\n",
    "    Real(low=0.01, high=1.0, prior='log-uniform', name='learning_rate'),\n",
    "    Integer(low=0, high=5, name='min_child_weight'),\n",
    "    Integer(low=0, high=50, name='max_depth'),\n",
    "    Integer(low=0, high=20, name='max_delta_step'),\n",
    "    Real(low=0.01, high=1.0, prior='subsample', name='uniform'),\n",
    "    Real(low=0.01, high=1.0, prior='uniform', name='colsample_bytree'),\n",
    "    Real(low=0.01, high=1.0, prior='uniform', name='colsample_bylevel'),\n",
    "    Real(low=1e-9, high=1000, prior='log-uniform', name='reg_lambda'),\n",
    "    Real(low=1e-9, high=1000, prior='log-uniform', name='reg_alpha'),\n",
    "    Real(low=1e-9, high=0.5, prior='log-uniform', name='gamma'),\n",
    "    Integer(low=50, high=100, name='n_estimators'),\n",
    "    Real(low=1e-6, high=500, prior='log-uniform', name='scale_pos_weight'),\n",
    "]\n",
    "xgboost_model = ModelSpace(XGBClassifier,\n",
    "                   space=xgboost_space,\n",
    "                   space_update=False)"
   ]
  },
  {
   "cell_type": "code",
   "execution_count": 4,
   "metadata": {},
   "outputs": [],
   "source": [
    "models = [\n",
    "    catboost_model,\n",
    "    xgboost_model,\n",
    "]"
   ]
  },
  {
   "cell_type": "markdown",
   "metadata": {},
   "source": [
    "## Get dataset"
   ]
  },
  {
   "cell_type": "markdown",
   "metadata": {},
   "source": [
    "Toy dataset"
   ]
  },
  {
   "cell_type": "code",
   "execution_count": 5,
   "metadata": {},
   "outputs": [],
   "source": [
    "X, y = make_classification(n_samples=100, n_features=4, n_informative=2, n_classes=2)\n",
    "dataset = XYCDataset(X, y)"
   ]
  },
  {
   "cell_type": "code",
   "execution_count": 6,
   "metadata": {},
   "outputs": [],
   "source": [
    "# X, y = make_classification(n_samples=100, n_features=4, n_informative=2, n_classes=2)\n",
    "# dataset = pd.DataFrame(data=X)\n",
    "# dataset['y'] = y\n",
    "# dataset.head()"
   ]
  },
  {
   "cell_type": "markdown",
   "metadata": {},
   "source": [
    "## Create a Skopt Trainer"
   ]
  },
  {
   "cell_type": "code",
   "execution_count": 7,
   "metadata": {},
   "outputs": [],
   "source": [
    "trainer = SkoptTrainer(models)"
   ]
  },
  {
   "cell_type": "markdown",
   "metadata": {},
   "source": [
    "## Optimize hyperparams"
   ]
  },
  {
   "cell_type": "markdown",
   "metadata": {},
   "source": [
    "Of course, it will take some time."
   ]
  },
  {
   "cell_type": "code",
   "execution_count": 8,
   "metadata": {},
   "outputs": [
    {
     "name": "stderr",
     "output_type": "stream",
     "text": [
      "/home/dev/work/lambda/modelgym/env/lib/python3.6/site-packages/scikit_optimize-0.5-py3.6.egg/skopt/optimizer/optimizer.py:369: UserWarning: The objective has been evaluated at this point before.\n",
      "  warnings.warn(\"The objective has been evaluated \"\n",
      "/home/dev/work/lambda/modelgym/env/lib/python3.6/site-packages/scikit_optimize-0.5-py3.6.egg/skopt/optimizer/optimizer.py:369: UserWarning: The objective has been evaluated at this point before.\n",
      "  warnings.warn(\"The objective has been evaluated \"\n"
     ]
    },
    {
     "name": "stdout",
     "output_type": "stream",
     "text": [
      "CPU times: user 16min 20s, sys: 7min 32s, total: 23min 52s\n",
      "Wall time: 4min 4s\n"
     ]
    },
    {
     "data": {
      "text/plain": [
       "{'CtBClassifier': {'loss': -0.8796791443850268,\n",
       "  'metric_cv_results': [{'accuracy': 0.9117647058823529, 'roc_auc': 0.96875},\n",
       "   {'accuracy': 0.9090909090909091, 'roc_auc': 0.9462962962962963},\n",
       "   {'accuracy': 0.8181818181818182, 'roc_auc': 0.8809523809523809}],\n",
       "  'params': {'iterations': 100,\n",
       "   'depth': 4,\n",
       "   'learning_rate': 0.07662725937826036,\n",
       "   'rsm': 0.16388852513362684,\n",
       "   'leaf_estimation_method': 'Gradient',\n",
       "   'l2_leaf_reg': 9,\n",
       "   'bagging_temperature': 0.65840409518586}},\n",
       " 'XGBClassifier': {'loss': -0.8600713012477718,\n",
       "  'metric_cv_results': [{'accuracy': 0.8529411764705882,\n",
       "    'roc_auc': 0.9548611111111112},\n",
       "   {'accuracy': 0.9090909090909091, 'roc_auc': 0.924074074074074},\n",
       "   {'accuracy': 0.8181818181818182, 'roc_auc': 0.875}],\n",
       "  'params': {'learning_rate': 0.7082046579816424,\n",
       "   'min_child_weight': 3,\n",
       "   'max_depth': 29,\n",
       "   'max_delta_step': 1,\n",
       "   'uniform': 0.7477984156352975,\n",
       "   'colsample_bytree': 0.7598923100404467,\n",
       "   'colsample_bylevel': 0.5658823270367197,\n",
       "   'reg_lambda': 1.492762918169584,\n",
       "   'reg_alpha': 5.279197870165145e-07,\n",
       "   'gamma': 7.487785535033536e-09,\n",
       "   'n_estimators': 66,\n",
       "   'scale_pos_weight': 0.8016563593429104}}}"
      ]
     },
     "execution_count": 8,
     "metadata": {},
     "output_type": "execute_result"
    }
   ],
   "source": [
    "%%time\n",
    "trainer.crossval_optimize_params(Accuracy(), dataset, metrics=[Accuracy(), RocAuc()])"
   ]
  },
  {
   "cell_type": "code",
   "execution_count": 9,
   "metadata": {},
   "outputs": [
    {
     "data": {
      "text/plain": [
       "{'CtBClassifier': {'result': {'loss': -0.8796791443850268,\n",
       "   'metric_cv_results': [{'accuracy': 0.9117647058823529, 'roc_auc': 0.96875},\n",
       "    {'accuracy': 0.9090909090909091, 'roc_auc': 0.9462962962962963},\n",
       "    {'accuracy': 0.8181818181818182, 'roc_auc': 0.8809523809523809}],\n",
       "   'params': {'iterations': 100,\n",
       "    'depth': 4,\n",
       "    'learning_rate': 0.07662725937826036,\n",
       "    'rsm': 0.16388852513362684,\n",
       "    'leaf_estimation_method': 'Gradient',\n",
       "    'l2_leaf_reg': 9,\n",
       "    'bagging_temperature': 0.65840409518586}},\n",
       "  'model_space': <modelgym.utils.model_space.ModelSpace at 0x7fba17256d68>},\n",
       " 'XGBClassifier': {'result': {'loss': -0.8600713012477718,\n",
       "   'metric_cv_results': [{'accuracy': 0.8529411764705882,\n",
       "     'roc_auc': 0.9548611111111112},\n",
       "    {'accuracy': 0.9090909090909091, 'roc_auc': 0.924074074074074},\n",
       "    {'accuracy': 0.8181818181818182, 'roc_auc': 0.875}],\n",
       "   'params': {'learning_rate': 0.7082046579816424,\n",
       "    'min_child_weight': 3,\n",
       "    'max_depth': 29,\n",
       "    'max_delta_step': 1,\n",
       "    'uniform': 0.7477984156352975,\n",
       "    'colsample_bytree': 0.7598923100404467,\n",
       "    'colsample_bylevel': 0.5658823270367197,\n",
       "    'reg_lambda': 1.492762918169584,\n",
       "    'reg_alpha': 5.279197870165145e-07,\n",
       "    'gamma': 7.487785535033536e-09,\n",
       "    'n_estimators': 66,\n",
       "    'scale_pos_weight': 0.8016563593429104}},\n",
       "  'model_space': <modelgym.utils.model_space.ModelSpace at 0x7fba171f55c0>}}"
      ]
     },
     "execution_count": 9,
     "metadata": {},
     "output_type": "execute_result"
    }
   ],
   "source": [
    "trainer.get_best_results()"
   ]
  },
  {
   "cell_type": "markdown",
   "metadata": {},
   "source": [
    "## Report best results"
   ]
  },
  {
   "cell_type": "code",
   "execution_count": 10,
   "metadata": {
    "scrolled": false
   },
   "outputs": [],
   "source": [
    "reporter = Report(trainer.get_best_results(), dataset, [Accuracy(), RocAuc()])"
   ]
  },
  {
   "cell_type": "markdown",
   "metadata": {},
   "source": [
    "### Report in text form"
   ]
  },
  {
   "cell_type": "code",
   "execution_count": 11,
   "metadata": {},
   "outputs": [
    {
     "name": "stdout",
     "output_type": "stream",
     "text": [
      "\n",
      "~~~~~~~~~~~~~~~~~~~~~~~~~~~~~~~~~~~~~~~~~~~~~~    accuracy    ~~~~~~~~~~~~~~~~~~~~~~~~~~~~~~~~~~~~~~~~~~~~~~~\n",
      "\n",
      "                           tuned\n",
      "CtBClassifier  0.879679 (+2.28%)\n",
      "XGBClassifier  0.860071 (+0.00%)\n",
      "\n",
      "~~~~~~~~~~~~~~~~~~~~~~~~~~~~~~~~~~~~~~~~~~~~~~~    roc_auc    ~~~~~~~~~~~~~~~~~~~~~~~~~~~~~~~~~~~~~~~~~~~~~~~\n",
      "\n",
      "                           tuned\n",
      "CtBClassifier  0.932000 (+1.53%)\n",
      "XGBClassifier  0.917978 (+0.00%)\n"
     ]
    }
   ],
   "source": [
    "reporter.print_all_metric_results()"
   ]
  },
  {
   "cell_type": "markdown",
   "metadata": {},
   "source": [
    "### Report plots"
   ]
  },
  {
   "cell_type": "code",
   "execution_count": 12,
   "metadata": {},
   "outputs": [
    {
     "name": "stdout",
     "output_type": "stream",
     "text": [
      "\n",
      "~~~~~~~~~~~~~~~~~~~~~~~~~~~~~~~~~~~~~~~~~~~~~~    accuracy    ~~~~~~~~~~~~~~~~~~~~~~~~~~~~~~~~~~~~~~~~~~~~~~~\n",
      "\n"
     ]
    },
    {
     "data": {
      "image/png": "[encoded data removed]",
      "text/plain": [
       "<Figure size 1440x504 with 1 Axes>"
      ]
     },
     "metadata": {
      "needs_background": "light"
     },
     "output_type": "display_data"
    },
    {
     "name": "stdout",
     "output_type": "stream",
     "text": [
      "\n",
      "~~~~~~~~~~~~~~~~~~~~~~~~~~~~~~~~~~~~~~~~~~~~~~~    roc_auc    ~~~~~~~~~~~~~~~~~~~~~~~~~~~~~~~~~~~~~~~~~~~~~~~\n",
      "\n"
     ]
    },
    {
     "data": {
      "image/png": "[encoded data removed]",
      "text/plain": [
       "<Figure size 1440x504 with 1 Axes>"
      ]
     },
     "metadata": {
      "needs_background": "light"
     },
     "output_type": "display_data"
    }
   ],
   "source": [
    "reporter.plot_all_metrics()"
   ]
  },
  {
   "cell_type": "markdown",
   "metadata": {},
   "source": [
    "### Report heatmaps for each metric"
   ]
  },
  {
   "cell_type": "code",
   "execution_count": 13,
   "metadata": {},
   "outputs": [],
   "source": [
    "# reporter.plot_heatmaps()"
   ]
  },
  {
   "cell_type": "markdown",
   "metadata": {},
   "source": [
    "That's it! \n",
    "\n",
    "If you like it, please follow the advanced tutorial and learn all features modelgym can provide."
   ]
  }
 ],
 "metadata": {
  "kernelspec": {
   "display_name": "Python 3",
   "language": "python",
   "name": "python3"
  },
  "language_info": {
   "codemirror_mode": {
    "name": "ipython",
    "version": 3
   },
   "file_extension": ".py",
   "mimetype": "text/x-python",
   "name": "python",
   "nbconvert_exporter": "python",
   "pygments_lexer": "ipython3",
   "version": "3.6.6"
  }
 },
 "nbformat": 4,
 "nbformat_minor": 2
}
