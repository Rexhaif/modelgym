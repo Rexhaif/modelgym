{
 "cells": [
  {
   "cell_type": "markdown",
   "metadata": {},
   "source": [
    "# Scopt example"
   ]
  },
  {
   "cell_type": "code",
   "execution_count": 1,
   "metadata": {},
   "outputs": [],
   "source": [
    "from modelgym.models import CtBClassifier, XGBClassifier, LGBMClassifier\n",
    "from modelgym.utils import ModelSpace\n",
    "from skopt.space import Integer, Categorical, Real\n",
    "from sklearn.datasets import make_classification\n",
    "from modelgym.utils import XYCDataset\n",
    "from modelgym.trainers import SkoptTrainer\n",
    "from modelgym.report import Report\n",
    "from modelgym.metrics import Accuracy, RocAuc\n",
    "from hyperopt import hp\n",
    "from hyperopt.pyll.base import scope\n",
    "import pandas as pd\n",
    "import math"
   ]
  },
  {
   "cell_type": "markdown",
   "metadata": {},
   "source": [
    "## Parameter spaces\n",
    "\n",
    "You could define parameters as a list of **skopt spaces** \n",
    "\n",
    "```python\n",
    "xgboost_space = [\n",
    "    Integer(low=0, high=50, name='max_depth'),\n",
    "]\n",
    "```\n",
    "or as a dictionary of **hyperopt spaces**\n",
    "\n",
    "```python\n",
    "xgboost_space = {\n",
    "    'max_depth': scope.int(hp.quniform('max_depth', 0, 50, 1)),\n",
    "}\n",
    "```\n",
    "\n",
    "## Fixed parameters\n",
    "\n",
    "* To **fix parameters** use Categorical with one category for skopt\n",
    "\n",
    "```python\n",
    "xgboost_space = [\n",
    "    Categorical([10], name='max_depth'),\n",
    "]\n",
    "```\n",
    "and just a value for hyperopt\n",
    "\n",
    "```python\n",
    "xgboost_space = {\n",
    "    'max_depth': 10,\n",
    "}\n",
    "```"
   ]
  },
  {
   "cell_type": "code",
   "execution_count": 2,
   "metadata": {},
   "outputs": [],
   "source": [
    "xgboost_space = [\n",
    "    Real(low=0.01, high=1.0, prior='log-uniform', name='learning_rate'),\n",
    "    Integer(low=0, high=5, name='min_child_weight'),\n",
    "    Integer(low=0, high=50, name='max_depth'),\n",
    "    Integer(low=0, high=20, name='max_delta_step'),\n",
    "    Real(low=0.01, high=1.0, prior='subsample', name='uniform'),\n",
    "    Real(low=0.01, high=1.0, prior='uniform', name='colsample_bytree'),\n",
    "    Real(low=0.01, high=1.0, prior='uniform', name='colsample_bylevel'),\n",
    "    Real(low=1e-9, high=1000, prior='log-uniform', name='reg_lambda'),\n",
    "    Real(low=1e-9, high=1000, prior='log-uniform', name='reg_alpha'),\n",
    "    Real(low=1e-9, high=0.5, prior='log-uniform', name='gamma'),\n",
    "    Integer(low=50, high=100, name='n_estimators'),\n",
    "    Real(low=1e-6, high=500, prior='log-uniform', name='scale_pos_weight'),\n",
    "]\n",
    "xgboost_model = ModelSpace(XGBClassifier,\n",
    "                   space=xgboost_space,\n",
    "                   space_update=False)"
   ]
  },
  {
   "cell_type": "code",
   "execution_count": 3,
   "metadata": {},
   "outputs": [],
   "source": [
    "catboost_space = [\n",
    "    Integer(low=100, high=101, name='iterations'),\n",
    "    Integer(low=1, high=11, name='depth'),\n",
    "    Real(low=math.exp(-5), high=1e-1, prior='log-uniform', name='learning_rate'),\n",
    "    Real(low=0.01, high=1, prior='uniform', transform='identity', name='rsm'),\n",
    "    Categorical(categories=('Newton', 'Gradient'), prior=None, name='leaf_estimation_method'),\n",
    "    Integer(low=1, high=10, name='l2_leaf_reg'),\n",
    "    Real(low=0, high=2, prior='uniform', transform='identity', name='bagging_temperature')\n",
    "]\n",
    "catboost_model = ModelSpace(CtBClassifier,\n",
    "                   space=catboost_space,\n",
    "                   space_update=False)"
   ]
  },
  {
   "cell_type": "code",
   "execution_count": 4,
   "metadata": {},
   "outputs": [],
   "source": [
    "models = [\n",
    "    catboost_model,\n",
    "    xgboost_model,\n",
    "]"
   ]
  },
  {
   "cell_type": "markdown",
   "metadata": {},
   "source": [
    "## Get dataset\n",
    "\n",
    "A dataset could be XYCDataset, pd.DataFrame or path to .csv file."
   ]
  },
  {
   "cell_type": "markdown",
   "metadata": {},
   "source": [
    "Toy dataset"
   ]
  },
  {
   "cell_type": "code",
   "execution_count": 5,
   "metadata": {},
   "outputs": [],
   "source": [
    "X, y = make_classification(n_samples=100, n_features=4, n_informative=2, n_classes=2)\n",
    "dataset = XYCDataset(X, y)"
   ]
  },
  {
   "cell_type": "code",
   "execution_count": 6,
   "metadata": {},
   "outputs": [],
   "source": [
    "# X, y = make_classification(n_samples=100, n_features=4, n_informative=2, n_classes=2)\n",
    "# dataset = pd.DataFrame(data=X)\n",
    "# dataset['y'] = y\n",
    "# dataset.head()"
   ]
  },
  {
   "cell_type": "markdown",
   "metadata": {},
   "source": [
    "## Create a Skopt Trainer"
   ]
  },
  {
   "cell_type": "code",
   "execution_count": 7,
   "metadata": {},
   "outputs": [],
   "source": [
    "trainer = SkoptTrainer(models)"
   ]
  },
  {
   "cell_type": "markdown",
   "metadata": {},
   "source": [
    "## Optimize hyperparams"
   ]
  },
  {
   "cell_type": "markdown",
   "metadata": {},
   "source": [
    "Of course, it will take some time."
   ]
  },
  {
   "cell_type": "code",
   "execution_count": 8,
   "metadata": {
    "scrolled": true
   },
   "outputs": [
    {
     "name": "stderr",
     "output_type": "stream",
     "text": [
      "/usr/local/lib/python3.6/dist-packages/skopt/optimizer/optimizer.py:399: UserWarning: The objective has been evaluated at this point before.\n",
      "  warnings.warn(\"The objective has been evaluated \"\n",
      "/usr/local/lib/python3.6/dist-packages/skopt/optimizer/optimizer.py:399: UserWarning: The objective has been evaluated at this point before.\n",
      "  warnings.warn(\"The objective has been evaluated \"\n",
      "/usr/local/lib/python3.6/dist-packages/skopt/optimizer/optimizer.py:399: UserWarning: The objective has been evaluated at this point before.\n",
      "  warnings.warn(\"The objective has been evaluated \"\n"
     ]
    },
    {
     "name": "stdout",
     "output_type": "stream",
     "text": [
      "CPU times: user 8min 2s, sys: 6min 4s, total: 14min 6s\n",
      "Wall time: 2min 23s\n"
     ]
    },
    {
     "data": {
      "text/plain": [
       "{'CtBClassifier': {'loss': -0.9200831847890671,\n",
       "  'metric_cv_results': [{'accuracy': 0.9117647058823529,\n",
       "    'roc_auc': 0.9965277777777778},\n",
       "   {'accuracy': 0.8484848484848485, 'roc_auc': 0.8713235294117648},\n",
       "   {'accuracy': 1.0, 'roc_auc': 1.0}],\n",
       "  'params': {'bagging_temperature': 1.8950285362775698,\n",
       "   'depth': 6,\n",
       "   'iterations': 101,\n",
       "   'l2_leaf_reg': 1,\n",
       "   'leaf_estimation_method': 'Gradient',\n",
       "   'learning_rate': 0.006935757578326401,\n",
       "   'rsm': 0.0982421310032911}},\n",
       " 'XGBClassifier': {'loss': -0.890374331550802,\n",
       "  'metric_cv_results': [{'accuracy': 0.8529411764705882,\n",
       "    'roc_auc': 0.9340277777777778},\n",
       "   {'accuracy': 0.8181818181818182, 'roc_auc': 0.8455882352941178},\n",
       "   {'accuracy': 1.0, 'roc_auc': 1.0}],\n",
       "  'params': {'colsample_bylevel': 0.9900329099865245,\n",
       "   'colsample_bytree': 0.5892000837093083,\n",
       "   'gamma': 0.00823876170998929,\n",
       "   'learning_rate': 0.037690887286278764,\n",
       "   'max_delta_step': 8,\n",
       "   'max_depth': 9,\n",
       "   'min_child_weight': 1,\n",
       "   'n_estimators': 59,\n",
       "   'reg_alpha': 12.671247926987165,\n",
       "   'reg_lambda': 2.3766797391276183e-05,\n",
       "   'scale_pos_weight': 1.6937421825064087,\n",
       "   'uniform': 0.018380740080863038}}}"
      ]
     },
     "execution_count": 8,
     "metadata": {},
     "output_type": "execute_result"
    }
   ],
   "source": [
    "%%time\n",
    "trainer.crossval_optimize_params(Accuracy(), dataset, metrics=[Accuracy(), RocAuc()])"
   ]
  },
  {
   "cell_type": "code",
   "execution_count": 9,
   "metadata": {},
   "outputs": [
    {
     "data": {
      "text/plain": [
       "{'CtBClassifier': {'model_space': <modelgym.utils.model_space.ModelSpace at 0x7f41b353c1d0>,\n",
       "  'result': {'loss': -0.9200831847890671,\n",
       "   'metric_cv_results': [{'accuracy': 0.9117647058823529,\n",
       "     'roc_auc': 0.9965277777777778},\n",
       "    {'accuracy': 0.8484848484848485, 'roc_auc': 0.8713235294117648},\n",
       "    {'accuracy': 1.0, 'roc_auc': 1.0}],\n",
       "   'params': {'bagging_temperature': 1.8950285362775698,\n",
       "    'depth': 6,\n",
       "    'iterations': 101,\n",
       "    'l2_leaf_reg': 1,\n",
       "    'leaf_estimation_method': 'Gradient',\n",
       "    'learning_rate': 0.006935757578326401,\n",
       "    'rsm': 0.0982421310032911}}},\n",
       " 'XGBClassifier': {'model_space': <modelgym.utils.model_space.ModelSpace at 0x7f41b353c9b0>,\n",
       "  'result': {'loss': -0.890374331550802,\n",
       "   'metric_cv_results': [{'accuracy': 0.8529411764705882,\n",
       "     'roc_auc': 0.9340277777777778},\n",
       "    {'accuracy': 0.8181818181818182, 'roc_auc': 0.8455882352941178},\n",
       "    {'accuracy': 1.0, 'roc_auc': 1.0}],\n",
       "   'params': {'colsample_bylevel': 0.9900329099865245,\n",
       "    'colsample_bytree': 0.5892000837093083,\n",
       "    'gamma': 0.00823876170998929,\n",
       "    'learning_rate': 0.037690887286278764,\n",
       "    'max_delta_step': 8,\n",
       "    'max_depth': 9,\n",
       "    'min_child_weight': 1,\n",
       "    'n_estimators': 59,\n",
       "    'reg_alpha': 12.671247926987165,\n",
       "    'reg_lambda': 2.3766797391276183e-05,\n",
       "    'scale_pos_weight': 1.6937421825064087,\n",
       "    'uniform': 0.018380740080863038}}}}"
      ]
     },
     "execution_count": 9,
     "metadata": {},
     "output_type": "execute_result"
    }
   ],
   "source": [
    "trainer.get_best_results()"
   ]
  },
  {
   "cell_type": "markdown",
   "metadata": {},
   "source": [
    "## Report best results"
   ]
  },
  {
   "cell_type": "code",
   "execution_count": 10,
   "metadata": {
    "scrolled": false
   },
   "outputs": [],
   "source": [
    "reporter = Report(trainer.get_best_results(), dataset, [Accuracy(), RocAuc()])"
   ]
  },
  {
   "cell_type": "markdown",
   "metadata": {},
   "source": [
    "### Report in text form"
   ]
  },
  {
   "cell_type": "code",
   "execution_count": 11,
   "metadata": {},
   "outputs": [
    {
     "name": "stdout",
     "output_type": "stream",
     "text": [
      "\n",
      "~~~~~~~~~~~~~~~~~~~~~~~~~~~~~~~~~~~~~~~~~~~~~~    accuracy    ~~~~~~~~~~~~~~~~~~~~~~~~~~~~~~~~~~~~~~~~~~~~~~~\n",
      "\n",
      "                           tuned\n",
      "CtBClassifier  0.920083 (+3.34%)\n",
      "XGBClassifier  0.890374 (+0.00%)\n",
      "\n",
      "~~~~~~~~~~~~~~~~~~~~~~~~~~~~~~~~~~~~~~~~~~~~~~~    roc_auc    ~~~~~~~~~~~~~~~~~~~~~~~~~~~~~~~~~~~~~~~~~~~~~~~\n",
      "\n",
      "                           tuned\n",
      "CtBClassifier  0.955950 (+3.17%)\n",
      "XGBClassifier  0.926539 (+0.00%)\n"
     ]
    }
   ],
   "source": [
    "reporter.print_all_metric_results()"
   ]
  },
  {
   "cell_type": "markdown",
   "metadata": {},
   "source": [
    "### Report plots"
   ]
  },
  {
   "cell_type": "code",
   "execution_count": 12,
   "metadata": {},
   "outputs": [
    {
     "name": "stdout",
     "output_type": "stream",
     "text": [
      "\n",
      "~~~~~~~~~~~~~~~~~~~~~~~~~~~~~~~~~~~~~~~~~~~~~~    accuracy    ~~~~~~~~~~~~~~~~~~~~~~~~~~~~~~~~~~~~~~~~~~~~~~~\n",
      "\n"
     ]
    },
    {
     "data": {
      "image/png": "[encoded data removed]",
      "text/plain": [
       "<Figure size 1440x504 with 1 Axes>"
      ]
     },
     "metadata": {},
     "output_type": "display_data"
    },
    {
     "name": "stdout",
     "output_type": "stream",
     "text": [
      "\n",
      "~~~~~~~~~~~~~~~~~~~~~~~~~~~~~~~~~~~~~~~~~~~~~~~    roc_auc    ~~~~~~~~~~~~~~~~~~~~~~~~~~~~~~~~~~~~~~~~~~~~~~~\n",
      "\n"
     ]
    },
    {
     "data": {
      "image/png": "[encoded data removed]",
      "text/plain": [
       "<Figure size 1440x504 with 1 Axes>"
      ]
     },
     "metadata": {},
     "output_type": "display_data"
    }
   ],
   "source": [
    "reporter.plot_all_metrics()"
   ]
  },
  {
   "cell_type": "markdown",
   "metadata": {},
   "source": [
    "### Report heatmaps for each metric"
   ]
  },
  {
   "cell_type": "code",
   "execution_count": 13,
   "metadata": {},
   "outputs": [
    {
     "name": "stdout",
     "output_type": "stream",
     "text": [
      "\n",
      "~~~~~~~~~~~~~~~~~~~~~~~~~~~~~~~~~~~~~~~~~~~~~~    accuracy    ~~~~~~~~~~~~~~~~~~~~~~~~~~~~~~~~~~~~~~~~~~~~~~~\n",
      "\n"
     ]
    },
    {
     "data": {
      "image/png": "[encoded data removed]",
      "text/plain": [
       "<Figure size 576x576 with 2 Axes>"
      ]
     },
     "metadata": {},
     "output_type": "display_data"
    },
    {
     "name": "stdout",
     "output_type": "stream",
     "text": [
      "\n",
      "~~~~~~~~~~~~~~~~~~~~~~~~~~~~~~~~~~~~~~~~~~~~~~~    roc_auc    ~~~~~~~~~~~~~~~~~~~~~~~~~~~~~~~~~~~~~~~~~~~~~~~\n",
      "\n"
     ]
    },
    {
     "data": {
      "image/png": "[encoded data removed]",
      "text/plain": [
       "<Figure size 576x576 with 2 Axes>"
      ]
     },
     "metadata": {},
     "output_type": "display_data"
    }
   ],
   "source": [
    "reporter.plot_heatmaps()"
   ]
  },
  {
   "cell_type": "markdown",
   "metadata": {},
   "source": [
    "That's it! \n",
    "\n",
    "If you like it, please follow the advanced tutorial and learn all features modelgym can provide."
   ]
  }
 ],
 "metadata": {
  "kernelspec": {
   "display_name": "Python 3",
   "language": "python",
   "name": "python3"
  },
  "language_info": {
   "codemirror_mode": {
    "name": "ipython",
    "version": 3
   },
   "file_extension": ".py",
   "mimetype": "text/x-python",
   "name": "python",
   "nbconvert_exporter": "python",
   "pygments_lexer": "ipython3",
   "version": "3.6.7"
  }
 },
 "nbformat": 4,
 "nbformat_minor": 2
}
